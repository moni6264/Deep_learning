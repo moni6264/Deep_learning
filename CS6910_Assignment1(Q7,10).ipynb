{
  "cells": [
    {
      "cell_type": "markdown",
      "metadata": {
        "id": "view-in-github",
        "colab_type": "text"
      },
      "source": [
        "<a href=\"https://colab.research.google.com/github/moni6264/Deep_learning/blob/main/CS6910_Assignment1(Q7%2C10).ipynb\" target=\"_parent\"><img src=\"https://colab.research.google.com/assets/colab-badge.svg\" alt=\"Open In Colab\"/></a>"
      ]
    },
    {
      "cell_type": "code",
      "execution_count": 15,
      "metadata": {
        "id": "RB1Ke58r079i"
      },
      "outputs": [],
      "source": [
        "import numpy as np\n",
        "import pandas as pd\n",
        "from tensorflow.keras.datasets import mnist, fashion_mnist\n",
        "from sklearn.model_selection import train_test_split\n",
        "from sklearn.metrics import accuracy_score"
      ]
    },
    {
      "cell_type": "code",
      "execution_count": 16,
      "metadata": {
        "colab": {
          "base_uri": "https://localhost:8080/"
        },
        "id": "rE4uZflD1It5",
        "outputId": "8771c02c-57c1-4aaa-83c8-b521a81be067"
      },
      "outputs": [
        {
          "output_type": "stream",
          "name": "stdout",
          "text": [
            "Number of examples in training set\n",
            "(54000, 784)\n",
            "(10, 54000)\n",
            "(54000,)\n",
            "No of examples in validation set\n",
            "(6000, 784)\n",
            "(6000,)\n",
            "No of examples in test set\n",
            "(10000, 784)\n",
            "(10000,)\n"
          ]
        }
      ],
      "source": [
        "def prepare_dataset():\n",
        "    (X, y), (X_test, y_test) = fashion_mnist.load_data()\n",
        "\n",
        "    # Reshaping the data matrices\n",
        "    X = X.reshape(X.shape[0], -1)\n",
        "    X_test = X_test.reshape(X_test.shape[0], -1)\n",
        "\n",
        "    # Normalizing the pixel intensities\n",
        "    X = X/255.0\n",
        "    X_test = X_test/255.0\n",
        "    \n",
        "    \n",
        "    X_train, X_val, y_train, y_val = train_test_split(X, y, test_size=0.1, random_state=42)\n",
        "    \n",
        "    y_train_encode = np.zeros((10,y_train.shape[0]))\n",
        "    y_train_encode[y_train, np.array(list(range(y_train.shape[0])))] = 1\n",
        "\n",
        "    y_val_encode = np.zeros((10,y_val.shape[0]))\n",
        "    y_val_encode[y_val, np.array(list(range(y_val.shape[0])))] = 1\n",
        "\n",
        "    \n",
        "    \n",
        "    print(\"Number of examples in training set\")\n",
        "    print(X_train.shape)\n",
        "    print(y_train_encode.shape)\n",
        "    print(y_train.shape)\n",
        "    \n",
        "    print(\"No of examples in validation set\")\n",
        "    print(X_val.shape)\n",
        "    print(y_val.shape)\n",
        "    print(\"No of examples in test set\")\n",
        "    print(X_test.shape)\n",
        "    print(y_test.shape)\n",
        "    \n",
        "    return X_train.T, y_train_encode, y_train.T ,X_val.T, y_val.T, X_test.T, y_test.T, y_val_encode\n",
        "\n",
        "\n",
        "X_train, y_train_encode, y_train ,X_val, y_val, X_test, y_test,y_val_encode = prepare_dataset() "
      ]
    },
    {
      "cell_type": "code",
      "execution_count": null,
      "metadata": {
        "id": "ba3tA4TUG643"
      },
      "outputs": [],
      "source": [
        ""
      ]
    },
    {
      "cell_type": "code",
      "execution_count": 17,
      "metadata": {
        "id": "FgUDfQDe1Iwh"
      },
      "outputs": [],
      "source": [
        "def sigmoid(x):\n",
        "    return 1. / (1.+np.exp(-x))\n",
        "def relu(x):\n",
        "    return np.maximum(0,x)\n",
        "def tanh(x):\n",
        "    return np.tanh(x)\n",
        "def softmax(x):\n",
        "    soft = np.zeros(x.shape)\n",
        "    for i in range(0, x.shape[1]):\n",
        "        numr = np.exp(x[:, i])\n",
        "        soft[:, i] = numr/np.sum(numr)\n",
        "    return soft\n",
        "\n",
        "#Derivatives\n",
        "def sigmoid_derivative(x):\n",
        "    return sigmoid(x) * (1-sigmoid(x))\n",
        "def relu_derivative(x):\n",
        "    return 1*(x>0) \n",
        "def tanh_derivative(x):\n",
        "    return (1 - (np.tanh(x)**2))\n",
        "\n",
        "\n",
        "\n",
        "def initialize_parameters(input_layer, hidden_layer, output_layer,initilisation):\n",
        "    weights = []\n",
        "    biases  = []\n",
        "    layers = [input_layer] + hidden_layer + [output_layer]\n",
        "    for i in range(len(hidden_layer)+1):\n",
        "        if initilisation == 'random':\n",
        "            weights.append(np.random.rand(layers[i+1], layers[i])*0.01)\n",
        "        if initilisation == 'xavier':\n",
        "            weights.append(np.random.randn(layers[i+1],layers[i])*np.sqrt(2/layers[i+1]))\n",
        "        biases.append(np.random.randn(layers[i+1],1))\n",
        "    return weights, biases"
      ]
    },
    {
      "cell_type": "code",
      "execution_count": 18,
      "metadata": {
        "id": "nVd_7qdk1Rdo"
      },
      "outputs": [],
      "source": [
        "import numpy as np\n",
        "from sklearn.metrics import mean_squared_error\n",
        "\n",
        "class ANN:\n",
        "\n",
        "    def __init__(self,input_layer,hidden_layer,output_layer,initialisation, activation,loss_function):\n",
        "           \n",
        "        self.input_layer   = input_layer\n",
        "        self.output_layer  = output_layer\n",
        "        self.weights    = []\n",
        "        self.biases     = []\n",
        "        self.initialisation = initialisation\n",
        "        self.hidden_layer   = hidden_layer\n",
        "        self.activation = activation\n",
        "        self.loss_function = loss_function\n",
        "\n",
        "        self.weights,self.biases = initialize_parameters(self.input_layer,self.hidden_layer,self.output_layer,self.initialisation)\n",
        "\n",
        "    \n",
        "    \n",
        "\n",
        "    def forward_propagation(self,input):\n",
        "\n",
        "        self.A = []\n",
        "        self.H  = []\n",
        "        k=0\n",
        "        \n",
        "        self.A.append(np.dot(self.weights[k],input)+self.biases[k])\n",
        "        if self.activation == 'sigmoid':\n",
        "          self.H.append(sigmoid(self.A[k]))\n",
        "        elif self.activation == 'tanh':\n",
        "          self.H.append(tanh(self.A[k]))\n",
        "        elif self.activation == 'relu': \n",
        "          self.H.append(relu(self.A[k])) \n",
        "\n",
        "\n",
        "        for k in range(1,len(self.hidden_layer)):\n",
        "            self.A.append(np.dot(self.weights[k],self.H[k-1])+self.biases[k])\n",
        "            if self.activation == 'sigmoid':\n",
        "              self.H.append(sigmoid(self.A[k]))\n",
        "            elif self.activation == 'tanh':\n",
        "              self.H.append(tanh(self.A[k]))\n",
        "            elif self.activation == 'relu': \n",
        "              self.H.append(relu(self.A[k])) \n",
        " \n",
        "\n",
        "\n",
        "        k=len(self.hidden_layer)\n",
        "        self.A.append(np.matmul(self.weights[k],self.H[k-1])+self.biases[k])\n",
        "        self.H.append(softmax(self.A[k]))\n",
        "\n",
        "        return self.H[-1]\n",
        "\n",
        "    def back_propagation(self,X_train,y_train):\n",
        "\n",
        "        g_a  = [0]*(len(self.hidden_layer)+1)\n",
        "        g_h  = [0]*(len(self.hidden_layer)+1)\n",
        "        g_w  = [0]*(len(self.weights))\n",
        "        g_b  = [0]*(len(self.biases))\n",
        "\n",
        "        n_samples = X_train.shape[1] \n",
        "\n",
        "        for k in reversed(range(len(self.hidden_layer)+1)):\n",
        "            if k == len(self.hidden_layer):\n",
        "              if self.loss_function == 'cross_entropy':\n",
        "                  g_a[k] = self.H[k]  - y_train  \n",
        "              elif self.loss_function == 'square_loss': \n",
        "                  g_a[k] = (self.H[k] - y_train) * self.H[k] * (1 - self.H[k]) \n",
        "                \n",
        "            else:\n",
        "                g_h[k] = (1/n_samples)*np.matmul(self.weights[k+1].T,g_a[k+1])\n",
        "                if self.activation == 'sigmoid':\n",
        "                  g_a[k] = (1/n_samples)*np.multiply(g_h[k],sigmoid_derivative(self.A[k]))\n",
        "                elif self.activation == 'tanh':\n",
        "                  g_a[k] = (1/n_samples)*np.multiply(g_h[k],tanh_derivative(self.A[k]))\n",
        "                elif self.activation == 'relu':\n",
        "                  g_a[k] = (1/n_samples)*np.multiply(g_h[k],relu_derivative(self.A[k]))\n",
        "                \n",
        "\n",
        "            if k == 0:\n",
        "                g_w[k] = (1/n_samples)*np.matmul(g_a[k],X_train.T) \n",
        "            else:\n",
        "                g_w[k] = (1/n_samples)*np.matmul(g_a[k],self.H[k-1].T)\n",
        "\n",
        "            g_b[k]  = (1/n_samples)*np.sum(g_a[k], axis=1, keepdims = True)\n",
        "        return g_w,g_b\n",
        "\n",
        "\n",
        "    def predict(self, X,y ):\n",
        "      output =  self.forward_propagation(X)\n",
        "      out_class=(np.argmax(output,axis=0))\n",
        "      accuracy = round(accuracy_score(y, out_class) * 100, 3)\n",
        "      return accuracy , out_class\n",
        "\n",
        "    def fit_predict(self,X_train,y_train,X_val ,y_val ,learning_rate,epochs, optimiser='gd',batch_size = 64,lambd=0.0005): \n",
        "\n",
        "      update_w = np.multiply(self.weights,0)\n",
        "      update_b = np.multiply(self.biases,0)\n",
        "      pre_update_w = np.multiply(self.weights,0)\n",
        "      pre_update_b = np.multiply(self.biases,0)\n",
        "      vw = 0.0\n",
        "      vb = 0.0\n",
        "      eps = 1e-8\n",
        "      gamma = 0.9\n",
        "      beta = 0.999\n",
        "      beta1 = 0.9\n",
        "      beta2 = 0.999\n",
        "      m_t, v_t, m_hat_w, v_hat_w, m_b,v_b,m_hat_b,v_hat_b = 0.0,0.0,0.0,0.0,0.0,0.0,0.0,0.0 \n",
        "      train_accuracy = []\n",
        "      val_accuracy = []\n",
        "      training_loss ,validation_loss = [] ,[]\n",
        "      for i in range(epochs):\n",
        "        \n",
        "\n",
        "            for batch in range(0, X_train.shape[1], batch_size):\n",
        "\n",
        "              train_b_imag =  X_train[:,batch:batch+batch_size]\n",
        "              train_l_imag =  y_train_encode[:,batch:batch+batch_size]\n",
        "              output =  self.forward_propagation(train_b_imag)\n",
        "              g_weights,g_biases = self.back_propagation(train_b_imag,train_l_imag)\n",
        "              if optimiser == 'gd':\n",
        "                 self.weights = self.weights - np.multiply(learning_rate,g_weights) - np.multiply(learning_rate*lambd,self.weights)\n",
        "                 self.biases = self.biases - np.multiply(learning_rate,g_biases)\n",
        "             \n",
        "              if optimiser == 'mgd':\n",
        "                 \n",
        "                 update_w = np.multiply(gamma,pre_update_w) + np.multiply(learning_rate,g_weights)\n",
        "                 self.weights = self.weights - update_w - np.multiply(learning_rate*lambd,self.weights)\n",
        "                \n",
        "                 update_b = np.multiply(gamma,pre_update_b) + np.multiply(learning_rate,g_biases)\n",
        "                 self.biases = self.biases - update_b\n",
        "                 pre_update_w = update_w\n",
        "                 pre_update_b = update_b\n",
        "\n",
        "              if optimiser == 'ngd':\n",
        "                 \n",
        "                 cache_w = self.weights\n",
        "                 cache_b = self.biases\n",
        "                 self.weights = self.weights - np.multiply(gamma,pre_update_w)\n",
        "                 self.biases = self.biases - np.multiply(gamma,pre_update_b)\n",
        "                 output =  self.forward_propagation(train_b_imag)\n",
        "                 g_weights,g_biases = self.back_propagation(train_b_imag,train_l_imag)\n",
        "\n",
        "                 update_w = np.multiply(gamma,pre_update_w) + np.multiply(learning_rate,g_weights)\n",
        "                 cache_w = cache_w - update_w - np.multiply(learning_rate*lambd,cache_w)\n",
        "                    \n",
        "                 update_b = np.multiply(gamma,pre_update_b) + np.multiply(learning_rate,g_biases)\n",
        "                 cache_b = cache_b - update_b\n",
        "                 \n",
        "                 self.weights = cache_w\n",
        "                 self.biases = cache_b\n",
        "                 pre_update_w = update_w\n",
        "                 pre_update_b = update_b\n",
        "                \n",
        "              if optimiser == 'rmsprop': \n",
        "\n",
        "                 vw = np.multiply(vw,beta) + np.multiply(1-beta,np.power(g_weights,2))\n",
        "                 vb = np.multiply(vb,beta) + np.multiply(1-beta,np.power(g_biases,2))\n",
        "\n",
        "          \n",
        "                 update_w = np.multiply(g_weights,learning_rate/np.power(vw+eps,1/2))\n",
        "                 update_b = np.multiply(g_biases,learning_rate/np.power(vb+eps,1/2))\n",
        "                 \n",
        "                 self.weights = self.weights - update_w - np.multiply(learning_rate*lambd,self.weights)\n",
        "                 self.biases = self.biases - update_b\n",
        "                    \n",
        "              if optimiser == 'adam':\n",
        "                 m_t = np.multiply(beta1,m_t) + np.multiply(1-beta1,g_weights)\n",
        "                 v_t = np.multiply(beta2,v_t) + np.multiply(1-beta2,np.power(g_weights,2))\n",
        "                 m_b = np.multiply(beta1,m_b) + np.multiply(1-beta1,g_biases)\n",
        "                 v_b = np.multiply(beta2,v_b) + np.multiply(1-beta2,np.power(g_biases,2))\n",
        "                \n",
        "                 m_hat_w = m_t/(1 - np.power(beta1,i+1))\n",
        "                 m_hat_b = m_b/(1 - np.power(beta1,i+1))\n",
        "                \n",
        "                 v_hat_w = v_t/(1 - np.power(beta2,i+1))\n",
        "                 v_hat_b = v_b/(1 - np.power(beta2,i+1))\n",
        "                 update_w = (learning_rate / np.power(v_hat_w + eps, 1/2)) * m_hat_w\n",
        "                 update_b = (learning_rate / np.power(v_hat_b + eps, 1/2)) * m_hat_b\n",
        "                 self.weights = self.weights - update_w - np.multiply(learning_rate*lambd,self.weights)\n",
        "                 self.biases = self.biases - update_b\n",
        "\n",
        "              if optimiser == 'nadam':\n",
        "                 \n",
        "                 self.weights = self.weights - np.multiply(gamma,update_w)\n",
        "                 self.biases  = self.biases  - np.multiply(gamma,update_b)\n",
        "\n",
        "                 g_weights,g_biases = self.back_propagation(train_b_imag,train_l_imag)\n",
        "\n",
        "                 m_t =  np.multiply(beta1,m_t) + np.multiply(1 - beta1,g_weights)\n",
        "                 v_t =  np.multiply(beta2,v_t) + np.multiply(1 - beta2,np.power(g_weights, 2))\n",
        "\n",
        "                 m_b =  np.multiply(beta1,m_b) + np.multiply(1 - beta1,g_biases)\n",
        "                 v_b =  np.multiply(beta2,v_b) + np.multiply(1 - beta2,np.power(g_biases, 2))\n",
        "                \n",
        "                 m_hat_w = m_t / (1 - np.power(beta1, i+1)) \n",
        "                 v_hat_t = v_t / (1 - np.power(beta2, i+1))\n",
        "\n",
        "                 m_hat_b = m_b / (1 - np.power(beta1, i+1)) \n",
        "                 v_hat_b = v_b / (1 - np.power(beta2, i+1))\n",
        "  \n",
        "                 a1 = (1-beta1)/(1-np.power(beta,i+1))\n",
        "                 update_w = np.multiply(learning_rate/(np.power(v_hat_t + eps,1/2)),(np.multiply(a1,g_weights) + np.multiply(beta1,m_hat_w)))#(a4 + a2))\n",
        "                 update_b = np.multiply(learning_rate/(np.power(v_hat_b + eps,1/2)),(np.multiply(a1,g_biases)+np.multiply(beta1,m_hat_b) ))#(a5 + a3))\n",
        "                 self.weights = self.weights - update_w - np.multiply(learning_rate*lambd,self.weights)\n",
        "                 self.biases = self.biases - update_b             \n",
        "\n",
        "            #Training loss for full dataset\n",
        "            predicted_train = self.forward_propagation(X_train)\n",
        "            predicted_train_label=(np.argmax(predicted_train,axis=0)) \n",
        "            acc1 = 100*np.sum(predicted_train_label==y_train)/predicted_train.shape[1]\n",
        "            train_accuracy.append(acc1)\n",
        "\n",
        "\n",
        "            predicted_val = self.forward_propagation(X_val)\n",
        "            predicted_val_label=(np.argmax(predicted_val,axis=0))\n",
        "            acc2 = 100*np.sum(predicted_val_label==y_val)/predicted_val.shape[1]   \n",
        "            val_accuracy.append(acc2)\n",
        "\n",
        "            a =self.weights[1:len(self.hidden_layer)]\n",
        "            b = np.sum([(np.sum((a[i]**2).reshape(1,-1))) for i in range(len(a))]) \n",
        "            if self.loss_function == 'cross_entropy':\n",
        "              train_loss = (-np.sum(np.multiply(y_train_encode,np.log(predicted_train)))+((lambd/2.)*b))/y_train.shape[0]\n",
        "              val_loss = (-np.sum(np.multiply(y_val_encode,np.log(predicted_val)))+((lambd/2.)*b))/y_val.shape[0]\n",
        "\n",
        "            elif self.loss_function == 'square_loss':\n",
        "\n",
        "              val_loss =((1/2) * np.sum((y_val_encode- predicted_val)**2))/y_val.shape[0]\n",
        "              train_loss = (1/2) * np.sum((y_train_encode - predicted_train)**2)/y_train.shape[0]\n",
        "            training_loss.append(train_loss)\n",
        "            validation_loss.append(val_loss)\n",
        "              \n",
        " \n",
        "            print('Epoch {}: training_accuracy = {:.2f}, training_loss = {:.5f},Validation accuracy = {:.2f},Validation loss = {:.5f}'.format(i,acc1,train_loss, acc2,val_loss))\n",
        "\n",
        "\n",
        "         \n",
        "      return train_accuracy,val_accuracy,training_loss, validation_loss"
      ]
    },
    {
      "cell_type": "code",
      "source": [
        "! pip install wandb\n"
      ],
      "metadata": {
        "colab": {
          "base_uri": "https://localhost:8080/"
        },
        "id": "ShD54a82mf7b",
        "outputId": "aa7e7c18-347d-44c6-e421-2222bec7303a"
      },
      "execution_count": 19,
      "outputs": [
        {
          "output_type": "stream",
          "name": "stdout",
          "text": [
            "Requirement already satisfied: wandb in /usr/local/lib/python3.7/dist-packages (0.12.10)\n",
            "Requirement already satisfied: Click!=8.0.0,>=7.0 in /usr/local/lib/python3.7/dist-packages (from wandb) (7.1.2)\n",
            "Requirement already satisfied: sentry-sdk>=1.0.0 in /usr/local/lib/python3.7/dist-packages (from wandb) (1.5.6)\n",
            "Requirement already satisfied: pathtools in /usr/local/lib/python3.7/dist-packages (from wandb) (0.1.2)\n",
            "Requirement already satisfied: GitPython>=1.0.0 in /usr/local/lib/python3.7/dist-packages (from wandb) (3.1.27)\n",
            "Requirement already satisfied: PyYAML in /usr/local/lib/python3.7/dist-packages (from wandb) (3.13)\n",
            "Requirement already satisfied: python-dateutil>=2.6.1 in /usr/local/lib/python3.7/dist-packages (from wandb) (2.8.2)\n",
            "Requirement already satisfied: six>=1.13.0 in /usr/local/lib/python3.7/dist-packages (from wandb) (1.15.0)\n",
            "Requirement already satisfied: promise<3,>=2.0 in /usr/local/lib/python3.7/dist-packages (from wandb) (2.3)\n",
            "Requirement already satisfied: psutil>=5.0.0 in /usr/local/lib/python3.7/dist-packages (from wandb) (5.4.8)\n",
            "Requirement already satisfied: shortuuid>=0.5.0 in /usr/local/lib/python3.7/dist-packages (from wandb) (1.0.8)\n",
            "Requirement already satisfied: yaspin>=1.0.0 in /usr/local/lib/python3.7/dist-packages (from wandb) (2.1.0)\n",
            "Requirement already satisfied: requests<3,>=2.0.0 in /usr/local/lib/python3.7/dist-packages (from wandb) (2.23.0)\n",
            "Requirement already satisfied: protobuf>=3.12.0 in /usr/local/lib/python3.7/dist-packages (from wandb) (3.17.3)\n",
            "Requirement already satisfied: docker-pycreds>=0.4.0 in /usr/local/lib/python3.7/dist-packages (from wandb) (0.4.0)\n",
            "Requirement already satisfied: typing-extensions>=3.7.4.3 in /usr/local/lib/python3.7/dist-packages (from GitPython>=1.0.0->wandb) (3.10.0.2)\n",
            "Requirement already satisfied: gitdb<5,>=4.0.1 in /usr/local/lib/python3.7/dist-packages (from GitPython>=1.0.0->wandb) (4.0.9)\n",
            "Requirement already satisfied: smmap<6,>=3.0.1 in /usr/local/lib/python3.7/dist-packages (from gitdb<5,>=4.0.1->GitPython>=1.0.0->wandb) (5.0.0)\n",
            "Requirement already satisfied: certifi>=2017.4.17 in /usr/local/lib/python3.7/dist-packages (from requests<3,>=2.0.0->wandb) (2021.10.8)\n",
            "Requirement already satisfied: idna<3,>=2.5 in /usr/local/lib/python3.7/dist-packages (from requests<3,>=2.0.0->wandb) (2.10)\n",
            "Requirement already satisfied: chardet<4,>=3.0.2 in /usr/local/lib/python3.7/dist-packages (from requests<3,>=2.0.0->wandb) (3.0.4)\n",
            "Requirement already satisfied: urllib3!=1.25.0,!=1.25.1,<1.26,>=1.21.1 in /usr/local/lib/python3.7/dist-packages (from requests<3,>=2.0.0->wandb) (1.24.3)\n",
            "Requirement already satisfied: termcolor<2.0.0,>=1.1.0 in /usr/local/lib/python3.7/dist-packages (from yaspin>=1.0.0->wandb) (1.1.0)\n"
          ]
        }
      ]
    },
    {
      "cell_type": "markdown",
      "source": [
        "Q7) Predicting test dataset using best configuration obtained from training model in sweep "
      ],
      "metadata": {
        "id": "mZEbO6rCVB8K"
      }
    },
    {
      "cell_type": "code",
      "execution_count": 20,
      "metadata": {
        "colab": {
          "base_uri": "https://localhost:8080/"
        },
        "id": "lXVWbFccG50i",
        "outputId": "881fd249-baa1-403d-8ea5-10abbbfc8b20"
      },
      "outputs": [
        {
          "output_type": "stream",
          "name": "stdout",
          "text": [
            "Epoch 0: training_accuracy = 80.15, training_loss = 0.54125,Validation accuracy = 79.23,Validation loss = 0.55529\n",
            "Epoch 1: training_accuracy = 81.36, training_loss = 0.50563,Validation accuracy = 80.32,Validation loss = 0.52563\n",
            "Epoch 2: training_accuracy = 82.87, training_loss = 0.47311,Validation accuracy = 81.93,Validation loss = 0.49457\n",
            "Epoch 3: training_accuracy = 83.42, training_loss = 0.46025,Validation accuracy = 82.82,Validation loss = 0.48301\n",
            "Epoch 4: training_accuracy = 83.76, training_loss = 0.45119,Validation accuracy = 83.22,Validation loss = 0.47513\n",
            "Epoch 5: training_accuracy = 83.98, training_loss = 0.44373,Validation accuracy = 83.28,Validation loss = 0.46875\n",
            "Epoch 6: training_accuracy = 84.19, training_loss = 0.43742,Validation accuracy = 83.38,Validation loss = 0.46343\n",
            "Epoch 7: training_accuracy = 84.33, training_loss = 0.43199,Validation accuracy = 83.57,Validation loss = 0.45893\n",
            "Epoch 8: training_accuracy = 84.50, training_loss = 0.42723,Validation accuracy = 83.67,Validation loss = 0.45504\n",
            "Epoch 9: training_accuracy = 84.64, training_loss = 0.42299,Validation accuracy = 83.83,Validation loss = 0.45161\n",
            "Epoch 10: training_accuracy = 84.77, training_loss = 0.41916,Validation accuracy = 83.90,Validation loss = 0.44855\n",
            "Epoch 11: training_accuracy = 84.88, training_loss = 0.41566,Validation accuracy = 83.95,Validation loss = 0.44578\n",
            "Epoch 12: training_accuracy = 85.00, training_loss = 0.41243,Validation accuracy = 83.97,Validation loss = 0.44325\n",
            "Epoch 13: training_accuracy = 85.12, training_loss = 0.40942,Validation accuracy = 84.08,Validation loss = 0.44092\n",
            "Epoch 14: training_accuracy = 85.22, training_loss = 0.40662,Validation accuracy = 84.12,Validation loss = 0.43876\n"
          ]
        }
      ],
      "source": [
        "#Q7\n",
        "n_class = 10\n",
        "model = ANN(28*28,[128,128,128],n_class, initialisation = 'xavier', activation='tanh', loss_function = 'cross_entropy')\n",
        "import warnings\n",
        "warnings.filterwarnings(\"ignore\", category=np.VisibleDeprecationWarning)\n",
        "acc1,acc2,train_loss, val_loss= model.fit_predict(X_train,y_train,X_val ,y_val ,learning_rate = 0.01,epochs=15, optimiser='adam',batch_size =64,lambd=0.0005)\n"
      ]
    },
    {
      "cell_type": "markdown",
      "source": [
        "Plotting confusion matrix for Fashion-MNIST test accuracy  dataset"
      ],
      "metadata": {
        "id": "iQF6oNhOTzyx"
      }
    },
    {
      "cell_type": "code",
      "execution_count": 21,
      "metadata": {
        "id": "o9rjco-8G563",
        "colab": {
          "base_uri": "https://localhost:8080/",
          "height": 909,
          "referenced_widgets": [
            "35787b3b59d440128aa1717adf4c4a34",
            "5d2b0e93f9744727920d21275cce11b0",
            "4fc3a9c9d5ea4736b7565c2d886592e1",
            "6f0f9ef15b894f8e9af444e80dc93de0",
            "360e76c364ed414aa35112fb858bf94e",
            "64673915d04749668e39b176391c6f73",
            "cf58eacdf3e4445e92ad189c05aff306",
            "09bfce3ee9e5459e93e5fa5046af2cca"
          ]
        },
        "outputId": "22a9458c-c0ac-4edf-f35d-2c3e772e62dd"
      },
      "outputs": [
        {
          "output_type": "display_data",
          "data": {
            "text/html": [
              "Finishing last run (ID:22e01smx) before initializing another..."
            ],
            "text/plain": [
              "<IPython.core.display.HTML object>"
            ]
          },
          "metadata": {}
        },
        {
          "output_type": "display_data",
          "data": {
            "text/html": [
              "<br/>Waiting for W&B process to finish, PID 367... <strong style=\"color:green\">(success).</strong>"
            ],
            "text/plain": [
              "<IPython.core.display.HTML object>"
            ]
          },
          "metadata": {}
        },
        {
          "output_type": "display_data",
          "data": {
            "application/vnd.jupyter.widget-view+json": {
              "model_id": "35787b3b59d440128aa1717adf4c4a34",
              "version_minor": 0,
              "version_major": 2
            },
            "text/plain": [
              "VBox(children=(Label(value=' 0.06MB of 0.06MB uploaded (0.00MB deduped)\\r'), FloatProgress(value=1.0, max=1.0)…"
            ]
          },
          "metadata": {}
        },
        {
          "output_type": "display_data",
          "data": {
            "text/html": [
              "<style>\n",
              "    table.wandb td:nth-child(1) { padding: 0 10px; text-align: right }\n",
              "    .wandb-row { display: flex; flex-direction: row; flex-wrap: wrap; width: 100% }\n",
              "    .wandb-col { display: flex; flex-direction: column; flex-basis: 100%; flex: 1; padding: 10px; }\n",
              "    </style>\n",
              "<div class=\"wandb-row\"><div class=\"wandb-col\">\n",
              "</div><div class=\"wandb-col\">\n",
              "</div></div>\n",
              "Synced 5 W&B file(s), 1 media file(s), 0 artifact file(s) and 0 other file(s)\n",
              "<br/>Synced <strong style=\"color:#cdcd00\">confusion_matrix</strong>: <a href=\"https://wandb.ai/moni6264/test_confusion/runs/22e01smx\" target=\"_blank\">https://wandb.ai/moni6264/test_confusion/runs/22e01smx</a><br/>\n",
              "Find logs at: <code>./wandb/run-20220225_060302-22e01smx/logs</code><br/>\n"
            ],
            "text/plain": [
              "<IPython.core.display.HTML object>"
            ]
          },
          "metadata": {}
        },
        {
          "output_type": "display_data",
          "data": {
            "text/html": [
              "Successfully finished last run (ID:22e01smx). Initializing new run:<br/>"
            ],
            "text/plain": [
              "<IPython.core.display.HTML object>"
            ]
          },
          "metadata": {}
        },
        {
          "output_type": "display_data",
          "data": {
            "text/html": [
              "\n",
              "                    Syncing run <strong><a href=\"https://wandb.ai/moni6264/test_confusion/runs/194bi6ua\" target=\"_blank\">confusion_matrix</a></strong> to <a href=\"https://wandb.ai/moni6264/test_confusion\" target=\"_blank\">Weights & Biases</a> (<a href=\"https://docs.wandb.com/integrations/jupyter.html\" target=\"_blank\">docs</a>).<br/>\n",
              "\n",
              "                "
            ],
            "text/plain": [
              "<IPython.core.display.HTML object>"
            ]
          },
          "metadata": {}
        },
        {
          "output_type": "stream",
          "name": "stdout",
          "text": [
            "Test accuracy  82.83\n"
          ]
        },
        {
          "output_type": "display_data",
          "data": {
            "image/png": "[encoded data removed]",
            "text/plain": [
              "<Figure size 1152x864 with 2 Axes>"
            ]
          },
          "metadata": {
            "needs_background": "light"
          }
        }
      ],
      "source": [
        "import wandb\n",
        "wandb.init(project=\"test_confusion\", entity=\"moni6264\", name=\"confusion_matrix\")\n",
        "class_names = ['T-shirt/top', 'Trouser', 'Pullover', 'Dress', 'Coat',\n",
        "               'Sandal', 'Shirt', 'Sneaker', 'Bag', 'Ankle boot']\n",
        "\n",
        "from sklearn.metrics import confusion_matrix\n",
        "import seaborn as sns\n",
        "import matplotlib.pyplot as plt\n",
        "accuracy, test_predicted = model.predict(X_test,y_test)\n",
        "bern_cnf_matrix_train = confusion_matrix(y_test, test_predicted, normalize='true')\n",
        "plt.figure(figsize=(16,12))\n",
        "ax = sns.heatmap(bern_cnf_matrix_train, annot=bern_cnf_matrix_train,xticklabels=class_names, yticklabels=class_names)\n",
        "ax.set_title(\"Confusion Matrix (Test set)\", size=12)\n",
        "ax.set_xlabel(\"Predicted label\", size=12)\n",
        "ax.set_ylabel(\"True label\", size=12)\n",
        "plt.savefig(\"Test_confusionmatrix\")\n",
        "# Load the confusion matrix images\n",
        "img1 = plt.imread(\"Test_confusionmatrix.png\")\n",
        "\n",
        "print(\"Test accuracy \",accuracy)\n",
        "# Log images of the confusion matrices\n",
        "wandb.log({\"Confusion Matrix - Test set\": wandb.Image(img1)})\n"
      ]
    },
    {
      "cell_type": "markdown",
      "source": [
        "Question 10 MNIST dataset\n",
        "\n",
        "Prepare MNIST dataset"
      ],
      "metadata": {
        "id": "JDtF2I8iWtFN"
      }
    },
    {
      "cell_type": "code",
      "execution_count": 8,
      "metadata": {
        "id": "HYGoucJoG59z",
        "colab": {
          "base_uri": "https://localhost:8080/"
        },
        "outputId": "cb2add2e-5cb8-4707-b801-3c9a0dca41c5"
      },
      "outputs": [
        {
          "output_type": "stream",
          "name": "stdout",
          "text": [
            "Downloading data from https://storage.googleapis.com/tensorflow/tf-keras-datasets/mnist.npz\n",
            "11493376/11490434 [==============================] - 0s 0us/step\n",
            "11501568/11490434 [==============================] - 0s 0us/step\n",
            "Number of examples in training set\n",
            "(54000, 784)\n",
            "(10, 54000)\n",
            "(54000,)\n",
            "No of examples in validation set\n",
            "(6000, 784)\n",
            "(6000,)\n",
            "No of examples in test set\n",
            "(10000, 784)\n",
            "(10000,)\n"
          ]
        }
      ],
      "source": [
        "from keras.datasets import mnist\n",
        "\n",
        "def prepare_dataset():\n",
        "    (X, y), (X_test, y_test) = mnist.load_data()\n",
        "\n",
        "    # Reshaping the data matrices\n",
        "    X = X.reshape(X.shape[0], -1)\n",
        "    X_test = X_test.reshape(X_test.shape[0], -1)\n",
        "\n",
        "    # Normalizing the pixel intensities\n",
        "    X = X/255.0\n",
        "    X_test = X_test/255.0\n",
        "   \n",
        "   \n",
        "    X_train, X_val, y_train, y_val = train_test_split(X, y, test_size=0.1, random_state=42)\n",
        "   \n",
        "    y_train_encode = np.zeros((10,y_train.shape[0]))\n",
        "    y_train_encode[y_train, np.array(list(range(y_train.shape[0])))] = 1\n",
        "\n",
        "    y_val_encode = np.zeros((10,y_val.shape[0]))\n",
        "    y_val_encode[y_val, np.array(list(range(y_val.shape[0])))] = 1\n",
        "\n",
        "   \n",
        "   \n",
        "    print(\"Number of examples in training set\")\n",
        "    print(X_train.shape)\n",
        "    print(y_train_encode.shape)\n",
        "    print(y_train.shape)\n",
        "   \n",
        "    print(\"No of examples in validation set\")\n",
        "    print(X_val.shape)\n",
        "    print(y_val.shape)\n",
        "    print(\"No of examples in test set\")\n",
        "    print(X_test.shape)\n",
        "    print(y_test.shape)\n",
        "   \n",
        "    return X_train.T, y_train_encode, y_train.T ,X_val.T, y_val.T, X_test.T, y_test.T, y_val_encode\n",
        "\n",
        "\n",
        "X_train, y_train_encode, y_train ,X_val, y_val, X_test, y_test,y_val_encode = prepare_dataset()\n",
        "\n"
      ]
    },
    {
      "cell_type": "markdown",
      "source": [
        "Configuration_1"
      ],
      "metadata": {
        "id": "Y6y3T-hzaAJ0"
      }
    },
    {
      "cell_type": "code",
      "source": [
        "#configuration 1\n",
        "model1 = ANN(28*28,[128,128,128],n_class, initialisation = 'xavier', activation='tanh', loss_function = 'cross_entropy')\n",
        "import warnings\n",
        "warnings.filterwarnings(\"ignore\", category=np.VisibleDeprecationWarning)\n",
        "acc1,acc2,train_loss, val_loss= model1.fit_predict(X_train,y_train,X_val ,y_val ,learning_rate = 0.01,epochs=20, optimiser='adam',batch_size =64,lambd=0.0005)\n",
        "accuracy, test_predicted = model1.predict(X_test,y_test)\n",
        "print(\"Test accuracy: \", accuracy)"
      ],
      "metadata": {
        "colab": {
          "base_uri": "https://localhost:8080/"
        },
        "id": "YwHfU6ZvaCpL",
        "outputId": "2e308392-ba6f-4e9a-eb3e-8831cf585711"
      },
      "execution_count": 9,
      "outputs": [
        {
          "output_type": "stream",
          "name": "stdout",
          "text": [
            "Epoch 0: training_accuracy = 89.22, training_loss = 0.35056,Validation accuracy = 89.22,Validation loss = 0.36214\n",
            "Epoch 1: training_accuracy = 91.03, training_loss = 0.29346,Validation accuracy = 90.97,Validation loss = 0.30824\n",
            "Epoch 2: training_accuracy = 92.09, training_loss = 0.26109,Validation accuracy = 91.53,Validation loss = 0.27843\n",
            "Epoch 3: training_accuracy = 92.66, training_loss = 0.24197,Validation accuracy = 92.03,Validation loss = 0.26119\n",
            "Epoch 4: training_accuracy = 93.05, training_loss = 0.22902,Validation accuracy = 92.33,Validation loss = 0.24968\n",
            "Epoch 5: training_accuracy = 93.38, training_loss = 0.21910,Validation accuracy = 92.38,Validation loss = 0.24096\n",
            "Epoch 6: training_accuracy = 93.59, training_loss = 0.21094,Validation accuracy = 92.53,Validation loss = 0.23385\n",
            "Epoch 7: training_accuracy = 93.79, training_loss = 0.20395,Validation accuracy = 92.70,Validation loss = 0.22783\n",
            "Epoch 8: training_accuracy = 94.02, training_loss = 0.19782,Validation accuracy = 92.90,Validation loss = 0.22260\n",
            "Epoch 9: training_accuracy = 94.15, training_loss = 0.19237,Validation accuracy = 92.98,Validation loss = 0.21798\n",
            "Epoch 10: training_accuracy = 94.29, training_loss = 0.18747,Validation accuracy = 93.20,Validation loss = 0.21387\n",
            "Epoch 11: training_accuracy = 94.40, training_loss = 0.18301,Validation accuracy = 93.27,Validation loss = 0.21016\n",
            "Epoch 12: training_accuracy = 94.53, training_loss = 0.17893,Validation accuracy = 93.45,Validation loss = 0.20680\n",
            "Epoch 13: training_accuracy = 94.66, training_loss = 0.17517,Validation accuracy = 93.57,Validation loss = 0.20374\n",
            "Epoch 14: training_accuracy = 94.76, training_loss = 0.17169,Validation accuracy = 93.68,Validation loss = 0.20093\n",
            "Epoch 15: training_accuracy = 94.88, training_loss = 0.16845,Validation accuracy = 93.72,Validation loss = 0.19836\n",
            "Epoch 16: training_accuracy = 94.98, training_loss = 0.16541,Validation accuracy = 93.73,Validation loss = 0.19598\n",
            "Epoch 17: training_accuracy = 95.06, training_loss = 0.16256,Validation accuracy = 93.92,Validation loss = 0.19379\n",
            "Epoch 18: training_accuracy = 95.16, training_loss = 0.15988,Validation accuracy = 93.95,Validation loss = 0.19175\n",
            "Epoch 19: training_accuracy = 95.24, training_loss = 0.15735,Validation accuracy = 94.03,Validation loss = 0.18986\n",
            "Test accuracy:  94.05\n"
          ]
        }
      ]
    },
    {
      "cell_type": "markdown",
      "source": [
        "Configuration_2"
      ],
      "metadata": {
        "id": "NgtxUjfKaF_V"
      }
    },
    {
      "cell_type": "code",
      "source": [
        "#configuaration 2\n",
        "model2 = ANN(28*28,[128,128,128], n_class , initialisation = 'xavier', activation='tanh', loss_function = 'cross_entropy')\n",
        "import warnings\n",
        "warnings.filterwarnings(\"ignore\", category=np.VisibleDeprecationWarning)\n",
        "acc1,acc2,train_loss, val_loss= model2.fit_predict(X_train,y_train,X_val ,y_val ,learning_rate = 0.001,epochs=15, optimiser='nadam',batch_size =128,lambd=0.0005)\n",
        "accuracy, test_predicted = model2.predict(X_test,y_test)\n",
        "print(\"Test accuracy: \", accuracy)\n"
      ],
      "metadata": {
        "colab": {
          "base_uri": "https://localhost:8080/"
        },
        "id": "NdIP_Sw0aJDz",
        "outputId": "14fc2a9d-0465-492e-ed49-93bc8f321f26"
      },
      "execution_count": 10,
      "outputs": [
        {
          "output_type": "stream",
          "name": "stdout",
          "text": [
            "Epoch 0: training_accuracy = 82.80, training_loss = 0.53377,Validation accuracy = 82.50,Validation loss = 0.54923\n",
            "Epoch 1: training_accuracy = 86.34, training_loss = 0.43838,Validation accuracy = 86.32,Validation loss = 0.45779\n",
            "Epoch 2: training_accuracy = 87.50, training_loss = 0.40405,Validation accuracy = 87.43,Validation loss = 0.42537\n",
            "Epoch 3: training_accuracy = 88.16, training_loss = 0.38183,Validation accuracy = 88.08,Validation loss = 0.40463\n",
            "Epoch 4: training_accuracy = 88.59, training_loss = 0.36568,Validation accuracy = 88.57,Validation loss = 0.38976\n",
            "Epoch 5: training_accuracy = 88.99, training_loss = 0.35314,Validation accuracy = 88.87,Validation loss = 0.37837\n",
            "Epoch 6: training_accuracy = 89.29, training_loss = 0.34294,Validation accuracy = 89.07,Validation loss = 0.36923\n",
            "Epoch 7: training_accuracy = 89.61, training_loss = 0.33437,Validation accuracy = 89.32,Validation loss = 0.36162\n",
            "Epoch 8: training_accuracy = 89.90, training_loss = 0.32699,Validation accuracy = 89.48,Validation loss = 0.35513\n",
            "Epoch 9: training_accuracy = 90.09, training_loss = 0.32052,Validation accuracy = 89.70,Validation loss = 0.34948\n",
            "Epoch 10: training_accuracy = 90.25, training_loss = 0.31477,Validation accuracy = 89.85,Validation loss = 0.34450\n",
            "Epoch 11: training_accuracy = 90.42, training_loss = 0.30962,Validation accuracy = 90.02,Validation loss = 0.34005\n",
            "Epoch 12: training_accuracy = 90.59, training_loss = 0.30495,Validation accuracy = 90.15,Validation loss = 0.33604\n",
            "Epoch 13: training_accuracy = 90.75, training_loss = 0.30069,Validation accuracy = 90.33,Validation loss = 0.33240\n",
            "Epoch 14: training_accuracy = 90.89, training_loss = 0.29679,Validation accuracy = 90.43,Validation loss = 0.32908\n",
            "Test accuracy:  90.42\n"
          ]
        }
      ]
    },
    {
      "cell_type": "markdown",
      "source": [
        "Configuration_3"
      ],
      "metadata": {
        "id": "Hb-va6s7aLij"
      }
    },
    {
      "cell_type": "code",
      "source": [
        "#configuration 3\n",
        "model3 = ANN(28*28,[128,128], n_class , initialisation = 'xavier', activation='relu', loss_function = 'cross_entropy')\n",
        "import warnings\n",
        "warnings.filterwarnings(\"ignore\", category=np.VisibleDeprecationWarning)\n",
        "acc1,acc2,train_loss, val_loss= model3.fit_predict(X_train,y_train,X_val ,y_val ,learning_rate = 0.01,epochs=10, optimiser='rmsprop',batch_size =64,lambd=0.0005)\n",
        "accuracy, test_predicted = model3.predict(X_test,y_test)\n",
        "print(\"Test accuracy: \", accuracy)"
      ],
      "metadata": {
        "colab": {
          "base_uri": "https://localhost:8080/"
        },
        "id": "WExLhVZ7aOS0",
        "outputId": "0a8c5249-be35-4e06-9eea-ed484e10d4cb"
      },
      "execution_count": 11,
      "outputs": [
        {
          "output_type": "stream",
          "name": "stdout",
          "text": [
            "Epoch 0: training_accuracy = 88.29, training_loss = 0.37387,Validation accuracy = 87.57,Validation loss = 0.38570\n",
            "Epoch 1: training_accuracy = 90.85, training_loss = 0.29311,Validation accuracy = 90.35,Validation loss = 0.31238\n",
            "Epoch 2: training_accuracy = 92.03, training_loss = 0.25137,Validation accuracy = 91.27,Validation loss = 0.27720\n",
            "Epoch 3: training_accuracy = 92.95, training_loss = 0.22107,Validation accuracy = 92.13,Validation loss = 0.25336\n",
            "Epoch 4: training_accuracy = 93.55, training_loss = 0.20044,Validation accuracy = 92.75,Validation loss = 0.23995\n",
            "Epoch 5: training_accuracy = 94.06, training_loss = 0.18425,Validation accuracy = 92.97,Validation loss = 0.23246\n",
            "Epoch 6: training_accuracy = 94.57, training_loss = 0.16994,Validation accuracy = 93.20,Validation loss = 0.22484\n",
            "Epoch 7: training_accuracy = 94.75, training_loss = 0.16183,Validation accuracy = 93.33,Validation loss = 0.22349\n",
            "Epoch 8: training_accuracy = 95.05, training_loss = 0.15280,Validation accuracy = 93.48,Validation loss = 0.21939\n",
            "Epoch 9: training_accuracy = 95.33, training_loss = 0.14481,Validation accuracy = 93.60,Validation loss = 0.21607\n",
            "Test accuracy:  93.78\n"
          ]
        }
      ]
    }
  ],
  "metadata": {
    "colab": {
      "collapsed_sections": [],
      "name": "CS6910_Assignment1(Q7,10).ipynb",
      "provenance": [],
      "include_colab_link": true
    },
    "kernelspec": {
      "display_name": "Python 3",
      "name": "python3"
    },
    "language_info": {
      "name": "python"
    },
    "widgets": {
      "application/vnd.jupyter.widget-state+json": {
        "35787b3b59d440128aa1717adf4c4a34": {
          "model_module": "@jupyter-widgets/controls",
          "model_name": "VBoxModel",
          "model_module_version": "1.5.0",
          "state": {
            "_view_name": "VBoxView",
            "_dom_classes": [],
            "_model_name": "VBoxModel",
            "_view_module": "@jupyter-widgets/controls",
            "_model_module_version": "1.5.0",
            "_view_count": null,
            "_view_module_version": "1.5.0",
            "box_style": "",
            "layout": "IPY_MODEL_5d2b0e93f9744727920d21275cce11b0",
            "_model_module": "@jupyter-widgets/controls",
            "children": [
              "IPY_MODEL_4fc3a9c9d5ea4736b7565c2d886592e1",
              "IPY_MODEL_6f0f9ef15b894f8e9af444e80dc93de0"
            ]
          }
        },
        "5d2b0e93f9744727920d21275cce11b0": {
          "model_module": "@jupyter-widgets/base",
          "model_name": "LayoutModel",
          "model_module_version": "1.2.0",
          "state": {
            "_view_name": "LayoutView",
            "grid_template_rows": null,
            "right": null,
            "justify_content": null,
            "_view_module": "@jupyter-widgets/base",
            "overflow": null,
            "_model_module_version": "1.2.0",
            "_view_count": null,
            "flex_flow": null,
            "width": null,
            "min_width": null,
            "border": null,
            "align_items": null,
            "bottom": null,
            "_model_module": "@jupyter-widgets/base",
            "top": null,
            "grid_column": null,
            "overflow_y": null,
            "overflow_x": null,
            "grid_auto_flow": null,
            "grid_area": null,
            "grid_template_columns": null,
            "flex": null,
            "_model_name": "LayoutModel",
            "justify_items": null,
            "grid_row": null,
            "max_height": null,
            "align_content": null,
            "visibility": null,
            "align_self": null,
            "height": null,
            "min_height": null,
            "padding": null,
            "grid_auto_rows": null,
            "grid_gap": null,
            "max_width": null,
            "order": null,
            "_view_module_version": "1.2.0",
            "grid_template_areas": null,
            "object_position": null,
            "object_fit": null,
            "grid_auto_columns": null,
            "margin": null,
            "display": null,
            "left": null
          }
        },
        "4fc3a9c9d5ea4736b7565c2d886592e1": {
          "model_module": "@jupyter-widgets/controls",
          "model_name": "LabelModel",
          "model_module_version": "1.5.0",
          "state": {
            "_view_name": "LabelView",
            "style": "IPY_MODEL_360e76c364ed414aa35112fb858bf94e",
            "_dom_classes": [],
            "description": "",
            "_model_name": "LabelModel",
            "placeholder": "​",
            "_view_module": "@jupyter-widgets/controls",
            "_model_module_version": "1.5.0",
            "value": " 0.07MB of 0.07MB uploaded (0.00MB deduped)\r",
            "_view_count": null,
            "_view_module_version": "1.5.0",
            "description_tooltip": null,
            "_model_module": "@jupyter-widgets/controls",
            "layout": "IPY_MODEL_64673915d04749668e39b176391c6f73"
          }
        },
        "6f0f9ef15b894f8e9af444e80dc93de0": {
          "model_module": "@jupyter-widgets/controls",
          "model_name": "FloatProgressModel",
          "model_module_version": "1.5.0",
          "state": {
            "_view_name": "ProgressView",
            "style": "IPY_MODEL_cf58eacdf3e4445e92ad189c05aff306",
            "_dom_classes": [],
            "description": "",
            "_model_name": "FloatProgressModel",
            "bar_style": "",
            "max": 1,
            "_view_module": "@jupyter-widgets/controls",
            "_model_module_version": "1.5.0",
            "value": 1,
            "_view_count": null,
            "_view_module_version": "1.5.0",
            "orientation": "horizontal",
            "min": 0,
            "description_tooltip": null,
            "_model_module": "@jupyter-widgets/controls",
            "layout": "IPY_MODEL_09bfce3ee9e5459e93e5fa5046af2cca"
          }
        },
        "360e76c364ed414aa35112fb858bf94e": {
          "model_module": "@jupyter-widgets/controls",
          "model_name": "DescriptionStyleModel",
          "model_module_version": "1.5.0",
          "state": {
            "_view_name": "StyleView",
            "_model_name": "DescriptionStyleModel",
            "description_width": "",
            "_view_module": "@jupyter-widgets/base",
            "_model_module_version": "1.5.0",
            "_view_count": null,
            "_view_module_version": "1.2.0",
            "_model_module": "@jupyter-widgets/controls"
          }
        },
        "64673915d04749668e39b176391c6f73": {
          "model_module": "@jupyter-widgets/base",
          "model_name": "LayoutModel",
          "model_module_version": "1.2.0",
          "state": {
            "_view_name": "LayoutView",
            "grid_template_rows": null,
            "right": null,
            "justify_content": null,
            "_view_module": "@jupyter-widgets/base",
            "overflow": null,
            "_model_module_version": "1.2.0",
            "_view_count": null,
            "flex_flow": null,
            "width": null,
            "min_width": null,
            "border": null,
            "align_items": null,
            "bottom": null,
            "_model_module": "@jupyter-widgets/base",
            "top": null,
            "grid_column": null,
            "overflow_y": null,
            "overflow_x": null,
            "grid_auto_flow": null,
            "grid_area": null,
            "grid_template_columns": null,
            "flex": null,
            "_model_name": "LayoutModel",
            "justify_items": null,
            "grid_row": null,
            "max_height": null,
            "align_content": null,
            "visibility": null,
            "align_self": null,
            "height": null,
            "min_height": null,
            "padding": null,
            "grid_auto_rows": null,
            "grid_gap": null,
            "max_width": null,
            "order": null,
            "_view_module_version": "1.2.0",
            "grid_template_areas": null,
            "object_position": null,
            "object_fit": null,
            "grid_auto_columns": null,
            "margin": null,
            "display": null,
            "left": null
          }
        },
        "cf58eacdf3e4445e92ad189c05aff306": {
          "model_module": "@jupyter-widgets/controls",
          "model_name": "ProgressStyleModel",
          "model_module_version": "1.5.0",
          "state": {
            "_view_name": "StyleView",
            "_model_name": "ProgressStyleModel",
            "description_width": "",
            "_view_module": "@jupyter-widgets/base",
            "_model_module_version": "1.5.0",
            "_view_count": null,
            "_view_module_version": "1.2.0",
            "bar_color": null,
            "_model_module": "@jupyter-widgets/controls"
          }
        },
        "09bfce3ee9e5459e93e5fa5046af2cca": {
          "model_module": "@jupyter-widgets/base",
          "model_name": "LayoutModel",
          "model_module_version": "1.2.0",
          "state": {
            "_view_name": "LayoutView",
            "grid_template_rows": null,
            "right": null,
            "justify_content": null,
            "_view_module": "@jupyter-widgets/base",
            "overflow": null,
            "_model_module_version": "1.2.0",
            "_view_count": null,
            "flex_flow": null,
            "width": null,
            "min_width": null,
            "border": null,
            "align_items": null,
            "bottom": null,
            "_model_module": "@jupyter-widgets/base",
            "top": null,
            "grid_column": null,
            "overflow_y": null,
            "overflow_x": null,
            "grid_auto_flow": null,
            "grid_area": null,
            "grid_template_columns": null,
            "flex": null,
            "_model_name": "LayoutModel",
            "justify_items": null,
            "grid_row": null,
            "max_height": null,
            "align_content": null,
            "visibility": null,
            "align_self": null,
            "height": null,
            "min_height": null,
            "padding": null,
            "grid_auto_rows": null,
            "grid_gap": null,
            "max_width": null,
            "order": null,
            "_view_module_version": "1.2.0",
            "grid_template_areas": null,
            "object_position": null,
            "object_fit": null,
            "grid_auto_columns": null,
            "margin": null,
            "display": null,
            "left": null
          }
        }
      }
    }
  },
  "nbformat": 4,
  "nbformat_minor": 0
}